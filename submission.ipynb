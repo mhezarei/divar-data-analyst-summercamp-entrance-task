{
  "nbformat": 4,
  "nbformat_minor": 0,
  "metadata": {
    "colab": {
      "name": "Divar DA Summer Camp Entrance Task Submission.ipynb",
      "provenance": [],
      "collapsed_sections": [
        "XoVNq9IHY1NO",
        "OesnrUI2Vqhx",
        "W_82fo2qzQmJ",
        "WDKtbblJzUfI",
        "q4ObhRkiGikG",
        "Z6GC0Gm5C-jz",
        "dAcUpl_jURmw",
        "TS7u25hLWH5A",
        "9KwcDc495VYS",
        "iUXhvP_v4rsq",
        "j8Ocus1_V2eB",
        "6-I68ef2TSpi",
        "9GbwNFxuWV_Q"
      ]
    },
    "kernelspec": {
      "name": "python3",
      "display_name": "Python 3"
    },
    "language_info": {
      "name": "python"
    }
  },
  "cells": [
    {
      "cell_type": "code",
      "metadata": {
        "colab": {
          "base_uri": "https://localhost:8080/"
        },
        "id": "AeUdpiPvUbOc",
        "outputId": "a30c3227-8c7c-4278-e09f-e47e1ec1be2f"
      },
      "source": [
        "from google.colab import drive\n",
        "drive.mount('/content/drive')"
      ],
      "execution_count": 1,
      "outputs": [
        {
          "output_type": "stream",
          "text": [
            "Drive already mounted at /content/drive; to attempt to forcibly remount, call drive.mount(\"/content/drive\", force_remount=True).\n"
          ],
          "name": "stdout"
        }
      ]
    },
    {
      "cell_type": "code",
      "metadata": {
        "colab": {
          "base_uri": "https://localhost:8080/"
        },
        "id": "tGcyT9TaUqXd",
        "outputId": "d2e8fa49-672f-428a-f3aa-118ed8f2cae3"
      },
      "source": [
        "%cd /content/drive/'My Drive'/'Divar Task'"
      ],
      "execution_count": 2,
      "outputs": [
        {
          "output_type": "stream",
          "text": [
            "/content/drive/My Drive/Divar Task\n"
          ],
          "name": "stdout"
        }
      ]
    },
    {
      "cell_type": "code",
      "metadata": {
        "id": "u5kbn0uOU3II"
      },
      "source": [
        "import numpy as np\n",
        "import pandas as pd\n",
        "import warnings\n",
        "warnings.filterwarnings('ignore')\n",
        "import matplotlib.pyplot as plt\n",
        "import matplotlib.ticker as ticker\n",
        "import math\n",
        "%matplotlib inline\n",
        "import seaborn as sns"
      ],
      "execution_count": 3,
      "outputs": []
    },
    {
      "cell_type": "code",
      "metadata": {
        "colab": {
          "base_uri": "https://localhost:8080/",
          "height": 424
        },
        "id": "cnzY6WqHVE1R",
        "outputId": "0fbff36c-e239-465a-b920-c161e5285f65"
      },
      "source": [
        "df = pd.read_excel(\"Summer Camp Task Data.xlsx\", engine='openpyxl')\n",
        "df"
      ],
      "execution_count": 4,
      "outputs": [
        {
          "output_type": "execute_result",
          "data": {
            "text/html": [
              "<div>\n",
              "<style scoped>\n",
              "    .dataframe tbody tr th:only-of-type {\n",
              "        vertical-align: middle;\n",
              "    }\n",
              "\n",
              "    .dataframe tbody tr th {\n",
              "        vertical-align: top;\n",
              "    }\n",
              "\n",
              "    .dataframe thead th {\n",
              "        text-align: right;\n",
              "    }\n",
              "</style>\n",
              "<table border=\"1\" class=\"dataframe\">\n",
              "  <thead>\n",
              "    <tr style=\"text-align: right;\">\n",
              "      <th></th>\n",
              "      <th>action</th>\n",
              "      <th>created_at</th>\n",
              "      <th>source_event_id</th>\n",
              "      <th>device_id</th>\n",
              "      <th>post_page_offset</th>\n",
              "      <th>tokens</th>\n",
              "      <th>post_index_in_post_list</th>\n",
              "      <th>post_token</th>\n",
              "    </tr>\n",
              "  </thead>\n",
              "  <tbody>\n",
              "    <tr>\n",
              "      <th>0</th>\n",
              "      <td>load_post_page</td>\n",
              "      <td>1609545001150</td>\n",
              "      <td>1575558c-a702-46ef-8e18-bc5cef761473</td>\n",
              "      <td>Ed9EADRZRXCHcrcEP_Hnkg</td>\n",
              "      <td>26.0</td>\n",
              "      <td>[wXvP3enu, wXvHXzUS, wXvPHXVe, wXvPHRs3, wXvH3...</td>\n",
              "      <td>NaN</td>\n",
              "      <td>NaN</td>\n",
              "    </tr>\n",
              "    <tr>\n",
              "      <th>1</th>\n",
              "      <td>load_post_page</td>\n",
              "      <td>1609545121641</td>\n",
              "      <td>0fd004f4-ce9b-4766-ac96-7578dedebacb</td>\n",
              "      <td>5aVIp_PNSAWxqwBETYpmxQ</td>\n",
              "      <td>19.0</td>\n",
              "      <td>[wXujANbk, wXurAJsf, wXufwlh1, wXtr_4tD, wXujg...</td>\n",
              "      <td>NaN</td>\n",
              "      <td>NaN</td>\n",
              "    </tr>\n",
              "    <tr>\n",
              "      <th>2</th>\n",
              "      <td>load_post_page</td>\n",
              "      <td>1609545009147</td>\n",
              "      <td>479905f2-3bb4-4c90-8e88-5ce4b60d0a73</td>\n",
              "      <td>mt0UAT4AQe2dECdXBvKYBA</td>\n",
              "      <td>0.0</td>\n",
              "      <td>[wXvHbNqU, wXvDrof9, wXv_aXHk, wXvDrSIa, wXv_a...</td>\n",
              "      <td>NaN</td>\n",
              "      <td>NaN</td>\n",
              "    </tr>\n",
              "    <tr>\n",
              "      <th>3</th>\n",
              "      <td>load_post_page</td>\n",
              "      <td>1609546776979</td>\n",
              "      <td>b9b609bd-a486-42fb-b1a9-5ca03cf4a215</td>\n",
              "      <td>huSKUX-mSwyUcGzgSbXX6g</td>\n",
              "      <td>0.0</td>\n",
              "      <td>[wXvb7cpv, wXvH3hL0, wXvjmDaE, wXvT0sOS, wXv_j...</td>\n",
              "      <td>NaN</td>\n",
              "      <td>NaN</td>\n",
              "    </tr>\n",
              "    <tr>\n",
              "      <th>4</th>\n",
              "      <td>load_post_page</td>\n",
              "      <td>1609547182717</td>\n",
              "      <td>6c390fce-34b6-4e19-837e-6bc295a72514</td>\n",
              "      <td>sL5fLDdoR9a7aDGPP8N-jA</td>\n",
              "      <td>1.0</td>\n",
              "      <td>[wXvjJTIc, wXvb5_SX, wXvb54Gs, wXvb5t6J, wXvbJ...</td>\n",
              "      <td>NaN</td>\n",
              "      <td>NaN</td>\n",
              "    </tr>\n",
              "    <tr>\n",
              "      <th>...</th>\n",
              "      <td>...</td>\n",
              "      <td>...</td>\n",
              "      <td>...</td>\n",
              "      <td>...</td>\n",
              "      <td>...</td>\n",
              "      <td>...</td>\n",
              "      <td>...</td>\n",
              "      <td>...</td>\n",
              "    </tr>\n",
              "    <tr>\n",
              "      <th>111078</th>\n",
              "      <td>load_post_page</td>\n",
              "      <td>1609546941659</td>\n",
              "      <td>f55b2133-4f95-4cc5-8d18-1b47bd3dca63</td>\n",
              "      <td>hiJArdXuQ_a3zVxEsmkDjQ</td>\n",
              "      <td>0.0</td>\n",
              "      <td>[wXv3qoPQ, wXvT7ylu, wXvnIJuH, wXvXH7vy, wXvDX...</td>\n",
              "      <td>NaN</td>\n",
              "      <td>NaN</td>\n",
              "    </tr>\n",
              "    <tr>\n",
              "      <th>111079</th>\n",
              "      <td>load_post_page</td>\n",
              "      <td>1609547257051</td>\n",
              "      <td>14282fc7-f431-43b6-8c07-423f33be3d74</td>\n",
              "      <td>NaN</td>\n",
              "      <td>1.0</td>\n",
              "      <td>[wXYr2lVk, wXXj7iDP, wXXXIsQr, wXQbXKz6, wXN3t...</td>\n",
              "      <td>NaN</td>\n",
              "      <td>NaN</td>\n",
              "    </tr>\n",
              "    <tr>\n",
              "      <th>111080</th>\n",
              "      <td>load_post_page</td>\n",
              "      <td>1609546292003</td>\n",
              "      <td>0a859885-a19b-4420-a9e4-2259eca6765d</td>\n",
              "      <td>g0IAfhwXTYa5rdrk96jXFQ</td>\n",
              "      <td>9.0</td>\n",
              "      <td>[wXr_jZmX, wXr7D0AM, wXrzjhxL, wXrfjQNe, wXrni...</td>\n",
              "      <td>NaN</td>\n",
              "      <td>NaN</td>\n",
              "    </tr>\n",
              "    <tr>\n",
              "      <th>111081</th>\n",
              "      <td>load_post_page</td>\n",
              "      <td>1609546304942</td>\n",
              "      <td>4ec64b79-27c4-4fba-b84c-b877dc82970a</td>\n",
              "      <td>TzlVSQK7S16V0TPyGELMKQ</td>\n",
              "      <td>0.0</td>\n",
              "      <td>[wXv3aQrv, wXvn6ONM, wXvfaG0M, wXvf6LIr, wXvjJ...</td>\n",
              "      <td>NaN</td>\n",
              "      <td>NaN</td>\n",
              "    </tr>\n",
              "    <tr>\n",
              "      <th>111082</th>\n",
              "      <td>load_post_page</td>\n",
              "      <td>1609547165297</td>\n",
              "      <td>5ea5de7d-1f85-4251-b3c1-6e71d4730fd4</td>\n",
              "      <td>Xe03AM5rQgu6jpGPZ4mGEw</td>\n",
              "      <td>2.0</td>\n",
              "      <td>[wXoDui-2, wXoT9yTg, wXoznZ93, wXormLxu, wXMX-...</td>\n",
              "      <td>NaN</td>\n",
              "      <td>NaN</td>\n",
              "    </tr>\n",
              "  </tbody>\n",
              "</table>\n",
              "<p>111083 rows × 8 columns</p>\n",
              "</div>"
            ],
            "text/plain": [
              "                action     created_at  ... post_index_in_post_list post_token\n",
              "0       load_post_page  1609545001150  ...                     NaN        NaN\n",
              "1       load_post_page  1609545121641  ...                     NaN        NaN\n",
              "2       load_post_page  1609545009147  ...                     NaN        NaN\n",
              "3       load_post_page  1609546776979  ...                     NaN        NaN\n",
              "4       load_post_page  1609547182717  ...                     NaN        NaN\n",
              "...                ...            ...  ...                     ...        ...\n",
              "111078  load_post_page  1609546941659  ...                     NaN        NaN\n",
              "111079  load_post_page  1609547257051  ...                     NaN        NaN\n",
              "111080  load_post_page  1609546292003  ...                     NaN        NaN\n",
              "111081  load_post_page  1609546304942  ...                     NaN        NaN\n",
              "111082  load_post_page  1609547165297  ...                     NaN        NaN\n",
              "\n",
              "[111083 rows x 8 columns]"
            ]
          },
          "metadata": {
            "tags": []
          },
          "execution_count": 4
        }
      ]
    },
    {
      "cell_type": "code",
      "metadata": {
        "id": "5V38a4MLVFq1"
      },
      "source": [
        "df[\"created_at\"] = pd.to_datetime(pd.to_datetime(df[\"created_at\"], unit=\"ms\").dt.strftime(\"%Y-%m-%d %H:%M:%S\"))"
      ],
      "execution_count": 5,
      "outputs": []
    },
    {
      "cell_type": "code",
      "metadata": {
        "id": "5dds-IpYVN-9"
      },
      "source": [
        "load_df = df[df[\"action\"] == \"load_post_page\"]\n",
        "click_df = df[df[\"action\"] == \"click_post\"]"
      ],
      "execution_count": 6,
      "outputs": []
    },
    {
      "cell_type": "code",
      "metadata": {
        "id": "qusIUxCVF2yK"
      },
      "source": [
        "click_df_nan = click_df.isna().sum()\n",
        "nan_tokens = click_df_nan[\"tokens\"]\n",
        "nan_offsets = click_df_nan[\"post_page_offset\"]\n",
        "assert(nan_tokens == nan_offsets == click_df.shape[0])"
      ],
      "execution_count": 7,
      "outputs": []
    },
    {
      "cell_type": "code",
      "metadata": {
        "id": "0wSsZNz3Fuig"
      },
      "source": [
        "load_df_nan = load_df.isna().sum()\n",
        "nan_indices = load_df_nan[\"post_index_in_post_list\"]\n",
        "nan_post_tokens = load_df_nan[\"post_token\"]\n",
        "assert(nan_indices == nan_post_tokens == load_df.shape[0])"
      ],
      "execution_count": 8,
      "outputs": []
    },
    {
      "cell_type": "code",
      "metadata": {
        "id": "AAg-3iL-VQsG"
      },
      "source": [
        "load_df = load_df.drop([\"action\", \"post_index_in_post_list\", \"post_token\"], axis=1)\n",
        "load_df[\"post_page_offset\"] = load_df[\"post_page_offset\"].astype(np.int16)"
      ],
      "execution_count": 9,
      "outputs": []
    },
    {
      "cell_type": "code",
      "metadata": {
        "id": "QcQT7e77VRaD"
      },
      "source": [
        "click_df = click_df.drop([\"action\", \"post_page_offset\", \"tokens\"], axis=1)\n",
        "click_df.post_index_in_post_list = click_df.post_index_in_post_list.astype(np.int16)"
      ],
      "execution_count": 10,
      "outputs": []
    },
    {
      "cell_type": "code",
      "metadata": {
        "id": "Ub1ASt9iVR1x"
      },
      "source": [
        "# Uncomment to save dataframes locally!\n",
        "\n",
        "# load_df.to_csv(\"load.csv\")\n",
        "# click_df.to_csv(\"click.csv\")"
      ],
      "execution_count": null,
      "outputs": []
    },
    {
      "cell_type": "markdown",
      "metadata": {
        "id": "wVr745aZAYiy"
      },
      "source": [
        "# **Pre-processing**"
      ]
    },
    {
      "cell_type": "markdown",
      "metadata": {
        "id": "XoVNq9IHY1NO"
      },
      "source": [
        "### Duplicate rows (Question 1)"
      ]
    },
    {
      "cell_type": "code",
      "metadata": {
        "colab": {
          "base_uri": "https://localhost:8080/"
        },
        "id": "XjRAxqOhYtCW",
        "outputId": "3640a3d2-7a38-4720-b548-ee1c52713589"
      },
      "source": [
        "print(f\"Total number of duplicate rows in load_df = {load_df.duplicated().sum()}\")\n",
        "print(f\"Total number of duplicate rows in click_df = {click_df.duplicated().sum()}\")"
      ],
      "execution_count": 11,
      "outputs": [
        {
          "output_type": "stream",
          "text": [
            "Total number of duplicate rows in load_df = 26\n",
            "Total number of duplicate rows in click_df = 47\n"
          ],
          "name": "stdout"
        }
      ]
    },
    {
      "cell_type": "code",
      "metadata": {
        "id": "Po_uA5j2YttU"
      },
      "source": [
        "load_df.drop_duplicates(inplace=True)\n",
        "click_df.drop_duplicates(inplace=True)"
      ],
      "execution_count": 12,
      "outputs": []
    },
    {
      "cell_type": "markdown",
      "metadata": {
        "id": "OesnrUI2Vqhx"
      },
      "source": [
        "### Getting tokens' length"
      ]
    },
    {
      "cell_type": "code",
      "metadata": {
        "id": "rEiRxjLrVR5_"
      },
      "source": [
        "load_df[\"tokens\"] = load_df.tokens.apply(lambda x: x[1:-1].replace(' ', '').split(','))"
      ],
      "execution_count": 13,
      "outputs": []
    },
    {
      "cell_type": "code",
      "metadata": {
        "id": "yZHMfwZ-VR9i"
      },
      "source": [
        "load_df[\"tokens_len\"] = load_df.tokens.apply(len)"
      ],
      "execution_count": 14,
      "outputs": []
    },
    {
      "cell_type": "markdown",
      "metadata": {
        "id": "YSNGZA8srR5m"
      },
      "source": [
        "# **IN ORDER TO RUN THE REST, PLEASE RUN QUESTION 1 SECTION BEFORE OTHER PARTS.**"
      ]
    },
    {
      "cell_type": "markdown",
      "metadata": {
        "id": "2vs7pCwo893K"
      },
      "source": [
        "# **Data Exploration**"
      ]
    },
    {
      "cell_type": "markdown",
      "metadata": {
        "id": "pSiufm3MzNDc"
      },
      "source": [
        "### Number of queries based on minutely timestamp"
      ]
    },
    {
      "cell_type": "code",
      "metadata": {
        "colab": {
          "base_uri": "https://localhost:8080/",
          "height": 388
        },
        "id": "9KlLyok79CNw",
        "outputId": "f8b1a1e8-3681-4b5e-d4bd-e49aef5d5064"
      },
      "source": [
        "# Calculate total number of queries at each timestamp\n",
        "query_count = load_df[[\"created_at\", \"source_event_id\"]]\n",
        "query_count[\"created_at\"] = pd.to_datetime(query_count[\"created_at\"].dt.strftime(\"%Y-%m-%d %H:%M\"))\n",
        "query_count = query_count.groupby(\"created_at\", as_index=False).count()\n",
        "query_count = query_count.rename(columns={'source_event_id': 'count'})\n",
        "\n",
        "# Outliers removed\n",
        "clean = query_count[query_count[\"count\"] > 5]\n",
        "\n",
        "fig, ax = plt.subplots(figsize = (24,6))\n",
        "\n",
        "plt.subplot(1, 2, 1)\n",
        "ax = sns.lineplot(data=query_count, x=\"created_at\", y=\"count\")\n",
        "ax.set(xlabel='Timestamp', ylabel='# Of Sent Queries')\n",
        "\n",
        "plt.subplot(1, 2, 2)\n",
        "ax = sns.lineplot(data=clean, x=\"created_at\", y=\"count\")\n",
        "ax.set(xlabel='Timestamp (Outliers removed)', ylabel='# Of Sent Queries')\n",
        "\n",
        "plt.show()"
      ],
      "execution_count": 24,
      "outputs": [
        {
          "output_type": "display_data",
          "data": {
            "image/png": "[encoded data removed]",
            "text/plain": [
              "<Figure size 1728x432 with 2 Axes>"
            ]
          },
          "metadata": {
            "tags": [],
            "needs_background": "light"
          }
        }
      ]
    },
    {
      "cell_type": "markdown",
      "metadata": {
        "id": "W_82fo2qzQmJ"
      },
      "source": [
        "### CTR percentage based on each group (group = latest loaded page offset)"
      ]
    },
    {
      "cell_type": "code",
      "metadata": {
        "id": "aiffItbaeABb"
      },
      "source": [
        "grouped = load_df.groupby([\"source_event_id\", \"device_id\"], as_index=False)\n",
        "g = grouped.max()\n",
        "g_sum = grouped.sum()\n",
        "rrange = []\n",
        "g_ctr_perc = []\n",
        "g_num_queries = []\n",
        "\n",
        "for i in range(load_df.post_page_offset.max()):\n",
        "    # Unique queries in group i\n",
        "    g_list = g[g.post_page_offset == i].source_event_id.unique()\n",
        "    # Ideal total number of tokens loaded\n",
        "    ideal_total = g_list.shape[0] * (i + 1) * 24\n",
        "    # How many of group i queries were actually clicked?\n",
        "    g_clicked = click_df[click_df.source_event_id.isin(g_list)].groupby([\"source_event_id\", \"device_id\"], as_index=False).count().post_index_in_post_list.sum()\n",
        "    # Calculate CTR\n",
        "    g_ctr = g_clicked / ideal_total\n",
        "    if not np.isnan(g_ctr):\n",
        "        rrange.append(i)\n",
        "        g_ctr_perc.append(round(g_ctr, 3) * 100)\n",
        "        g_num_queries.append(g_list.shape[0])"
      ],
      "execution_count": 25,
      "outputs": []
    },
    {
      "cell_type": "code",
      "metadata": {
        "colab": {
          "base_uri": "https://localhost:8080/",
          "height": 0
        },
        "id": "I9REUpOOeqFW",
        "outputId": "80f03fe3-9b1e-4e41-c9e4-3fd255aaac84"
      },
      "source": [
        "fig, ax = plt.subplots(figsize = (24, 6))\n",
        "\n",
        "plt.subplot(1, 3, 1)\n",
        "plt.bar(x = rrange, height = g_ctr_perc)\n",
        "ax.set(xlabel='Latest page offset', ylabel='CTR percentage')\n",
        "plt.xlabel('Latest page offset')\n",
        "plt.ylabel('CTR')\n",
        "\n",
        "plt.subplot(1, 3, 2)\n",
        "plt.bar(x = rrange, height = g_num_queries)\n",
        "ax.set(xlabel='Latest page offset', ylabel='# of queries')\n",
        "plt.xlabel('Latest page offset')\n",
        "plt.ylabel('# of unique queries')\n",
        "\n",
        "plt.subplot(1, 3, 3)\n",
        "plt.bar(x = rrange, height = np.log(g_num_queries))\n",
        "ax.set(xlabel='Latest page offset', ylabel='# of queries')\n",
        "plt.xlabel('Latest page offset')\n",
        "plt.ylabel('Log of # of unique queries')\n",
        "\n",
        "plt.show()"
      ],
      "execution_count": 26,
      "outputs": [
        {
          "output_type": "display_data",
          "data": {
            "image/png": "[encoded data removed]",
            "text/plain": [
              "<Figure size 1728x432 with 3 Axes>"
            ]
          },
          "metadata": {
            "tags": [],
            "needs_background": "light"
          }
        }
      ]
    },
    {
      "cell_type": "code",
      "metadata": {
        "colab": {
          "base_uri": "https://localhost:8080/",
          "height": 0
        },
        "id": "1_Ywm5uEvd8p",
        "outputId": "848fba29-dc37-46df-d36e-b3350fd18f75"
      },
      "source": [
        "fig, ax = plt.subplots(figsize = (20, 15))\n",
        "\n",
        "low_ctr_indices = [i for i in range(len(rrange)) if g_ctr_perc[i] < 2]\n",
        "low_ctr_values = [g_ctr_perc[i] for i in range(len(rrange)) if g_ctr_perc[i] < 2]\n",
        "\n",
        "plt.barh(y = low_ctr_indices, width = low_ctr_values)\n",
        "ax.set(ylabel='Latest page offset', xlabel='CTR percentage %')\n",
        "ax.set_yticks(low_ctr_indices)\n",
        "\n",
        "plt.show()"
      ],
      "execution_count": 27,
      "outputs": [
        {
          "output_type": "display_data",
          "data": {
            "image/png": "[encoded data removed]",
            "text/plain": [
              "<Figure size 1440x1080 with 1 Axes>"
            ]
          },
          "metadata": {
            "tags": [],
            "needs_background": "light"
          }
        }
      ]
    },
    {
      "cell_type": "markdown",
      "metadata": {
        "id": "WDKtbblJzUfI"
      },
      "source": [
        "### CTR percentage of tokens"
      ]
    },
    {
      "cell_type": "code",
      "metadata": {
        "id": "3cE_uThh8N39",
        "colab": {
          "base_uri": "https://localhost:8080/",
          "height": 0
        },
        "outputId": "34bc0fa2-8665-4f54-cb32-e3a9c73b48e2"
      },
      "source": [
        "all_clicked_tokens = click_df.post_token\n",
        "clicked_unq_tokens, clicked_unq_tokens_cnt = np.unique(all_clicked_tokens, return_counts=True)\n",
        "clicked_unq_tokens_counter = dict(zip(clicked_unq_tokens, clicked_unq_tokens_cnt))\n",
        "clicked_unq_df = pd.DataFrame(data=clicked_unq_tokens_counter.items(), columns=[\"token\", \"clicked_count\"])\n",
        "clicked_unq_df"
      ],
      "execution_count": 28,
      "outputs": [
        {
          "output_type": "execute_result",
          "data": {
            "text/html": [
              "<div>\n",
              "<style scoped>\n",
              "    .dataframe tbody tr th:only-of-type {\n",
              "        vertical-align: middle;\n",
              "    }\n",
              "\n",
              "    .dataframe tbody tr th {\n",
              "        vertical-align: top;\n",
              "    }\n",
              "\n",
              "    .dataframe thead th {\n",
              "        text-align: right;\n",
              "    }\n",
              "</style>\n",
              "<table border=\"1\" class=\"dataframe\">\n",
              "  <thead>\n",
              "    <tr style=\"text-align: right;\">\n",
              "      <th></th>\n",
              "      <th>token</th>\n",
              "      <th>clicked_count</th>\n",
              "    </tr>\n",
              "  </thead>\n",
              "  <tbody>\n",
              "    <tr>\n",
              "      <th>0</th>\n",
              "      <td>6s-aL4tmC</td>\n",
              "      <td>1</td>\n",
              "    </tr>\n",
              "    <tr>\n",
              "      <th>1</th>\n",
              "      <td>AX9aGeoq</td>\n",
              "      <td>2</td>\n",
              "    </tr>\n",
              "    <tr>\n",
              "      <th>2</th>\n",
              "      <td>AXJjWaLL</td>\n",
              "      <td>1</td>\n",
              "    </tr>\n",
              "    <tr>\n",
              "      <th>3</th>\n",
              "      <td>AXXLcqma</td>\n",
              "      <td>2</td>\n",
              "    </tr>\n",
              "    <tr>\n",
              "      <th>4</th>\n",
              "      <td>AX_v3njs</td>\n",
              "      <td>1</td>\n",
              "    </tr>\n",
              "    <tr>\n",
              "      <th>...</th>\n",
              "      <td>...</td>\n",
              "      <td>...</td>\n",
              "    </tr>\n",
              "    <tr>\n",
              "      <th>33532</th>\n",
              "      <td>wXzupeZ3</td>\n",
              "      <td>1</td>\n",
              "    </tr>\n",
              "    <tr>\n",
              "      <th>33533</th>\n",
              "      <td>wXzxBirX</td>\n",
              "      <td>1</td>\n",
              "    </tr>\n",
              "    <tr>\n",
              "      <th>33534</th>\n",
              "      <td>wXzyYeu4</td>\n",
              "      <td>1</td>\n",
              "    </tr>\n",
              "    <tr>\n",
              "      <th>33535</th>\n",
              "      <td>wXzyn9tC</td>\n",
              "      <td>4</td>\n",
              "    </tr>\n",
              "    <tr>\n",
              "      <th>33536</th>\n",
              "      <td>wXzyovOY</td>\n",
              "      <td>1</td>\n",
              "    </tr>\n",
              "  </tbody>\n",
              "</table>\n",
              "<p>33537 rows × 2 columns</p>\n",
              "</div>"
            ],
            "text/plain": [
              "           token  clicked_count\n",
              "0      6s-aL4tmC              1\n",
              "1       AX9aGeoq              2\n",
              "2       AXJjWaLL              1\n",
              "3       AXXLcqma              2\n",
              "4       AX_v3njs              1\n",
              "...          ...            ...\n",
              "33532   wXzupeZ3              1\n",
              "33533   wXzxBirX              1\n",
              "33534   wXzyYeu4              1\n",
              "33535   wXzyn9tC              4\n",
              "33536   wXzyovOY              1\n",
              "\n",
              "[33537 rows x 2 columns]"
            ]
          },
          "metadata": {
            "tags": []
          },
          "execution_count": 28
        }
      ]
    },
    {
      "cell_type": "code",
      "metadata": {
        "id": "Qwl0vtyP92Vb",
        "colab": {
          "base_uri": "https://localhost:8080/",
          "height": 0
        },
        "outputId": "20a42dd0-8998-4c90-8817-052df26b661b"
      },
      "source": [
        "all_loaded_tokens = np.concatenate(load_df.tokens.to_numpy())\n",
        "loaded_unq_tokens, loaded_unq_tokens_cnt = np.unique(all_loaded_tokens, return_counts=True)\n",
        "loaded_unq_tokens_counter = dict(zip(loaded_unq_tokens, loaded_unq_tokens_cnt))\n",
        "loaded_unq_df = pd.DataFrame(data=loaded_unq_tokens_counter.items(), columns=[\"token\", \"loaded_count\"])\n",
        "loaded_unq_df"
      ],
      "execution_count": 29,
      "outputs": [
        {
          "output_type": "execute_result",
          "data": {
            "text/html": [
              "<div>\n",
              "<style scoped>\n",
              "    .dataframe tbody tr th:only-of-type {\n",
              "        vertical-align: middle;\n",
              "    }\n",
              "\n",
              "    .dataframe tbody tr th {\n",
              "        vertical-align: top;\n",
              "    }\n",
              "\n",
              "    .dataframe thead th {\n",
              "        text-align: right;\n",
              "    }\n",
              "</style>\n",
              "<table border=\"1\" class=\"dataframe\">\n",
              "  <thead>\n",
              "    <tr style=\"text-align: right;\">\n",
              "      <th></th>\n",
              "      <th>token</th>\n",
              "      <th>loaded_count</th>\n",
              "    </tr>\n",
              "  </thead>\n",
              "  <tbody>\n",
              "    <tr>\n",
              "      <th>0</th>\n",
              "      <td>-EfhlclYd</td>\n",
              "      <td>4</td>\n",
              "    </tr>\n",
              "    <tr>\n",
              "      <th>1</th>\n",
              "      <td>0MKrzQKFq</td>\n",
              "      <td>1</td>\n",
              "    </tr>\n",
              "    <tr>\n",
              "      <th>2</th>\n",
              "      <td>0UkcHhzvn</td>\n",
              "      <td>1</td>\n",
              "    </tr>\n",
              "    <tr>\n",
              "      <th>3</th>\n",
              "      <td>0WJQi3Y-R</td>\n",
              "      <td>4</td>\n",
              "    </tr>\n",
              "    <tr>\n",
              "      <th>4</th>\n",
              "      <td>0aFSrrpBO</td>\n",
              "      <td>1</td>\n",
              "    </tr>\n",
              "    <tr>\n",
              "      <th>...</th>\n",
              "      <td>...</td>\n",
              "      <td>...</td>\n",
              "    </tr>\n",
              "    <tr>\n",
              "      <th>375375</th>\n",
              "      <td>y1zDieGuM</td>\n",
              "      <td>1</td>\n",
              "    </tr>\n",
              "    <tr>\n",
              "      <th>375376</th>\n",
              "      <td>y4DdYFew8</td>\n",
              "      <td>1</td>\n",
              "    </tr>\n",
              "    <tr>\n",
              "      <th>375377</th>\n",
              "      <td>yUJXZG40e</td>\n",
              "      <td>1</td>\n",
              "    </tr>\n",
              "    <tr>\n",
              "      <th>375378</th>\n",
              "      <td>yeDFIyNkj</td>\n",
              "      <td>1</td>\n",
              "    </tr>\n",
              "    <tr>\n",
              "      <th>375379</th>\n",
              "      <td>ysHrSoKeK</td>\n",
              "      <td>1</td>\n",
              "    </tr>\n",
              "  </tbody>\n",
              "</table>\n",
              "<p>375380 rows × 2 columns</p>\n",
              "</div>"
            ],
            "text/plain": [
              "            token  loaded_count\n",
              "0       -EfhlclYd             4\n",
              "1       0MKrzQKFq             1\n",
              "2       0UkcHhzvn             1\n",
              "3       0WJQi3Y-R             4\n",
              "4       0aFSrrpBO             1\n",
              "...           ...           ...\n",
              "375375  y1zDieGuM             1\n",
              "375376  y4DdYFew8             1\n",
              "375377  yUJXZG40e             1\n",
              "375378  yeDFIyNkj             1\n",
              "375379  ysHrSoKeK             1\n",
              "\n",
              "[375380 rows x 2 columns]"
            ]
          },
          "metadata": {
            "tags": []
          },
          "execution_count": 29
        }
      ]
    },
    {
      "cell_type": "code",
      "metadata": {
        "id": "PkHjR8bD2CxU",
        "colab": {
          "base_uri": "https://localhost:8080/",
          "height": 0
        },
        "outputId": "79dafff5-7ac5-4bc3-adf4-dd15fedfd55d"
      },
      "source": [
        "merged = pd.merge(loaded_unq_df, clicked_unq_df, on=\"token\", how=\"left\", suffixes=[\"_shown\", \"_clicked\"]).fillna(0, axis=1)\n",
        "merged[\"ctr\"] = 100 * round(merged.clicked_count / merged.loaded_count, 5)\n",
        "merged = merged[merged.ctr <= 100]\n",
        "merged"
      ],
      "execution_count": 30,
      "outputs": [
        {
          "output_type": "execute_result",
          "data": {
            "text/html": [
              "<div>\n",
              "<style scoped>\n",
              "    .dataframe tbody tr th:only-of-type {\n",
              "        vertical-align: middle;\n",
              "    }\n",
              "\n",
              "    .dataframe tbody tr th {\n",
              "        vertical-align: top;\n",
              "    }\n",
              "\n",
              "    .dataframe thead th {\n",
              "        text-align: right;\n",
              "    }\n",
              "</style>\n",
              "<table border=\"1\" class=\"dataframe\">\n",
              "  <thead>\n",
              "    <tr style=\"text-align: right;\">\n",
              "      <th></th>\n",
              "      <th>token</th>\n",
              "      <th>loaded_count</th>\n",
              "      <th>clicked_count</th>\n",
              "      <th>ctr</th>\n",
              "    </tr>\n",
              "  </thead>\n",
              "  <tbody>\n",
              "    <tr>\n",
              "      <th>0</th>\n",
              "      <td>-EfhlclYd</td>\n",
              "      <td>4</td>\n",
              "      <td>0.0</td>\n",
              "      <td>0.0</td>\n",
              "    </tr>\n",
              "    <tr>\n",
              "      <th>1</th>\n",
              "      <td>0MKrzQKFq</td>\n",
              "      <td>1</td>\n",
              "      <td>0.0</td>\n",
              "      <td>0.0</td>\n",
              "    </tr>\n",
              "    <tr>\n",
              "      <th>2</th>\n",
              "      <td>0UkcHhzvn</td>\n",
              "      <td>1</td>\n",
              "      <td>0.0</td>\n",
              "      <td>0.0</td>\n",
              "    </tr>\n",
              "    <tr>\n",
              "      <th>3</th>\n",
              "      <td>0WJQi3Y-R</td>\n",
              "      <td>4</td>\n",
              "      <td>0.0</td>\n",
              "      <td>0.0</td>\n",
              "    </tr>\n",
              "    <tr>\n",
              "      <th>4</th>\n",
              "      <td>0aFSrrpBO</td>\n",
              "      <td>1</td>\n",
              "      <td>0.0</td>\n",
              "      <td>0.0</td>\n",
              "    </tr>\n",
              "    <tr>\n",
              "      <th>...</th>\n",
              "      <td>...</td>\n",
              "      <td>...</td>\n",
              "      <td>...</td>\n",
              "      <td>...</td>\n",
              "    </tr>\n",
              "    <tr>\n",
              "      <th>375375</th>\n",
              "      <td>y1zDieGuM</td>\n",
              "      <td>1</td>\n",
              "      <td>0.0</td>\n",
              "      <td>0.0</td>\n",
              "    </tr>\n",
              "    <tr>\n",
              "      <th>375376</th>\n",
              "      <td>y4DdYFew8</td>\n",
              "      <td>1</td>\n",
              "      <td>0.0</td>\n",
              "      <td>0.0</td>\n",
              "    </tr>\n",
              "    <tr>\n",
              "      <th>375377</th>\n",
              "      <td>yUJXZG40e</td>\n",
              "      <td>1</td>\n",
              "      <td>0.0</td>\n",
              "      <td>0.0</td>\n",
              "    </tr>\n",
              "    <tr>\n",
              "      <th>375378</th>\n",
              "      <td>yeDFIyNkj</td>\n",
              "      <td>1</td>\n",
              "      <td>0.0</td>\n",
              "      <td>0.0</td>\n",
              "    </tr>\n",
              "    <tr>\n",
              "      <th>375379</th>\n",
              "      <td>ysHrSoKeK</td>\n",
              "      <td>1</td>\n",
              "      <td>0.0</td>\n",
              "      <td>0.0</td>\n",
              "    </tr>\n",
              "  </tbody>\n",
              "</table>\n",
              "<p>374663 rows × 4 columns</p>\n",
              "</div>"
            ],
            "text/plain": [
              "            token  loaded_count  clicked_count  ctr\n",
              "0       -EfhlclYd             4            0.0  0.0\n",
              "1       0MKrzQKFq             1            0.0  0.0\n",
              "2       0UkcHhzvn             1            0.0  0.0\n",
              "3       0WJQi3Y-R             4            0.0  0.0\n",
              "4       0aFSrrpBO             1            0.0  0.0\n",
              "...           ...           ...            ...  ...\n",
              "375375  y1zDieGuM             1            0.0  0.0\n",
              "375376  y4DdYFew8             1            0.0  0.0\n",
              "375377  yUJXZG40e             1            0.0  0.0\n",
              "375378  yeDFIyNkj             1            0.0  0.0\n",
              "375379  ysHrSoKeK             1            0.0  0.0\n",
              "\n",
              "[374663 rows x 4 columns]"
            ]
          },
          "metadata": {
            "tags": []
          },
          "execution_count": 30
        }
      ]
    },
    {
      "cell_type": "code",
      "metadata": {
        "colab": {
          "base_uri": "https://localhost:8080/",
          "height": 0
        },
        "id": "kUHyyxdx-i37",
        "outputId": "e3a0467a-9d33-46f1-b711-a9f0cbd3e13b"
      },
      "source": [
        "fig, ax = plt.subplots(figsize = (24, 6))\n",
        "\n",
        "plt.subplot(1, 2, 1)\n",
        "plt.hist(merged.ctr, bins=5)\n",
        "plt.xlabel('CTR percentage')\n",
        "plt.ylabel('Number of tokens')\n",
        "\n",
        "plt.subplot(1, 2, 2)\n",
        "plt.hist(merged.ctr, bins=5)\n",
        "plt.yscale('log', nonposy='clip')\n",
        "plt.xlabel('CTR percentage')\n",
        "plt.ylabel('Number of tokens (log)')\n",
        "\n",
        "plt.show()"
      ],
      "execution_count": 31,
      "outputs": [
        {
          "output_type": "display_data",
          "data": {
            "image/png": "[encoded data removed]",
            "text/plain": [
              "<Figure size 1728x432 with 2 Axes>"
            ]
          },
          "metadata": {
            "tags": [],
            "needs_background": "light"
          }
        }
      ]
    },
    {
      "cell_type": "code",
      "metadata": {
        "colab": {
          "base_uri": "https://localhost:8080/",
          "height": 0
        },
        "id": "2QyKVWG5_25D",
        "outputId": "8db579c8-910c-45d2-ba3a-443750d7efcc"
      },
      "source": [
        "fig, ax = plt.subplots(figsize = (24, 6))\n",
        "\n",
        "plt.subplot(1, 2, 1)\n",
        "plt.hist(merged[merged.loaded_count > 5].ctr, bins=5)\n",
        "plt.xlabel('CTR percentage')\n",
        "plt.ylabel('Number of tokens')\n",
        "\n",
        "plt.subplot(1, 2, 2)\n",
        "plt.hist(merged[merged.loaded_count > 5].ctr, bins=5)\n",
        "plt.yscale('log', nonposy='clip')\n",
        "plt.xlabel('CTR percentage')\n",
        "plt.ylabel('Number of tokens (log)')\n",
        "\n",
        "plt.show()"
      ],
      "execution_count": 32,
      "outputs": [
        {
          "output_type": "display_data",
          "data": {
            "image/png": "[encoded data removed]",
            "text/plain": [
              "<Figure size 1728x432 with 2 Axes>"
            ]
          },
          "metadata": {
            "tags": [],
            "needs_background": "light"
          }
        }
      ]
    },
    {
      "cell_type": "markdown",
      "metadata": {
        "id": "q4ObhRkiGikG"
      },
      "source": [
        "### Queries with only one loaded page"
      ]
    },
    {
      "cell_type": "code",
      "metadata": {
        "id": "dX7Wh_B-GlvP"
      },
      "source": [
        "one_pagers = load_df.groupby(\"source_event_id\", as_index=False).max()\n",
        "one_pagers = one_pagers[one_pagers.post_page_offset == 0]\n",
        "one_pagers_unq_queries = one_pagers.source_event_id.unique()"
      ],
      "execution_count": 33,
      "outputs": []
    },
    {
      "cell_type": "code",
      "metadata": {
        "colab": {
          "base_uri": "https://localhost:8080/",
          "height": 0
        },
        "id": "ELhthiGaH47G",
        "outputId": "bc04c0fe-a908-4303-baf9-81f595bce60a"
      },
      "source": [
        "is_clicked = click_df[click_df.source_event_id.isin(one_pagers_unq_queries)]\n",
        "result = is_clicked.groupby(\"source_event_id\", as_index=False).count()\n",
        "result = result[[\"source_event_id\"]]\n",
        "result"
      ],
      "execution_count": 34,
      "outputs": [
        {
          "output_type": "execute_result",
          "data": {
            "text/html": [
              "<div>\n",
              "<style scoped>\n",
              "    .dataframe tbody tr th:only-of-type {\n",
              "        vertical-align: middle;\n",
              "    }\n",
              "\n",
              "    .dataframe tbody tr th {\n",
              "        vertical-align: top;\n",
              "    }\n",
              "\n",
              "    .dataframe thead th {\n",
              "        text-align: right;\n",
              "    }\n",
              "</style>\n",
              "<table border=\"1\" class=\"dataframe\">\n",
              "  <thead>\n",
              "    <tr style=\"text-align: right;\">\n",
              "      <th></th>\n",
              "      <th>source_event_id</th>\n",
              "    </tr>\n",
              "  </thead>\n",
              "  <tbody>\n",
              "    <tr>\n",
              "      <th>0</th>\n",
              "      <td>0057b345-8ad7-4c41-9e74-415e39a3140c</td>\n",
              "    </tr>\n",
              "    <tr>\n",
              "      <th>1</th>\n",
              "      <td>00796d71-0256-4241-810e-27f946f402ac</td>\n",
              "    </tr>\n",
              "    <tr>\n",
              "      <th>2</th>\n",
              "      <td>008faa8d-6648-42de-a76e-e0a7a97be360</td>\n",
              "    </tr>\n",
              "    <tr>\n",
              "      <th>3</th>\n",
              "      <td>009e2d57-d038-4268-9ec4-d021e6894667</td>\n",
              "    </tr>\n",
              "    <tr>\n",
              "      <th>4</th>\n",
              "      <td>00b3bd08-7d2c-4f1f-ba7b-f9e44012660f</td>\n",
              "    </tr>\n",
              "    <tr>\n",
              "      <th>...</th>\n",
              "      <td>...</td>\n",
              "    </tr>\n",
              "    <tr>\n",
              "      <th>1673</th>\n",
              "      <td>ff08b22a-c50e-4241-a9b7-d8a485d34b91</td>\n",
              "    </tr>\n",
              "    <tr>\n",
              "      <th>1674</th>\n",
              "      <td>ff804753-8238-4b4e-94ad-bbeec59d3aac</td>\n",
              "    </tr>\n",
              "    <tr>\n",
              "      <th>1675</th>\n",
              "      <td>ffb96e50-89ea-4a19-b804-b18b08ce1864</td>\n",
              "    </tr>\n",
              "    <tr>\n",
              "      <th>1676</th>\n",
              "      <td>ffbc107f-45f5-4dcf-b496-ce421de644a4</td>\n",
              "    </tr>\n",
              "    <tr>\n",
              "      <th>1677</th>\n",
              "      <td>ffd325c8-31c7-4e35-a5ed-ee922594e799</td>\n",
              "    </tr>\n",
              "  </tbody>\n",
              "</table>\n",
              "<p>1678 rows × 1 columns</p>\n",
              "</div>"
            ],
            "text/plain": [
              "                           source_event_id\n",
              "0     0057b345-8ad7-4c41-9e74-415e39a3140c\n",
              "1     00796d71-0256-4241-810e-27f946f402ac\n",
              "2     008faa8d-6648-42de-a76e-e0a7a97be360\n",
              "3     009e2d57-d038-4268-9ec4-d021e6894667\n",
              "4     00b3bd08-7d2c-4f1f-ba7b-f9e44012660f\n",
              "...                                    ...\n",
              "1673  ff08b22a-c50e-4241-a9b7-d8a485d34b91\n",
              "1674  ff804753-8238-4b4e-94ad-bbeec59d3aac\n",
              "1675  ffb96e50-89ea-4a19-b804-b18b08ce1864\n",
              "1676  ffbc107f-45f5-4dcf-b496-ce421de644a4\n",
              "1677  ffd325c8-31c7-4e35-a5ed-ee922594e799\n",
              "\n",
              "[1678 rows x 1 columns]"
            ]
          },
          "metadata": {
            "tags": []
          },
          "execution_count": 34
        }
      ]
    },
    {
      "cell_type": "markdown",
      "metadata": {
        "id": "Z6GC0Gm5C-jz"
      },
      "source": [
        "### Which queries' first results weren't clicked?"
      ]
    },
    {
      "cell_type": "code",
      "metadata": {
        "colab": {
          "base_uri": "https://localhost:8080/",
          "height": 0
        },
        "id": "PXPgh2I1FklO",
        "outputId": "9938667d-de14-41a2-cf2e-6140ef3269da"
      },
      "source": [
        "result = click_df.groupby([\"source_event_id\"], as_index=False).agg(lambda ser: np.count_nonzero(ser <= 3))\n",
        "result = result[result.post_index_in_post_list == 0]\n",
        "result = result[[\"source_event_id\"]]\n",
        "result"
      ],
      "execution_count": 35,
      "outputs": [
        {
          "output_type": "execute_result",
          "data": {
            "text/html": [
              "<div>\n",
              "<style scoped>\n",
              "    .dataframe tbody tr th:only-of-type {\n",
              "        vertical-align: middle;\n",
              "    }\n",
              "\n",
              "    .dataframe tbody tr th {\n",
              "        vertical-align: top;\n",
              "    }\n",
              "\n",
              "    .dataframe thead th {\n",
              "        text-align: right;\n",
              "    }\n",
              "</style>\n",
              "<table border=\"1\" class=\"dataframe\">\n",
              "  <thead>\n",
              "    <tr style=\"text-align: right;\">\n",
              "      <th></th>\n",
              "      <th>source_event_id</th>\n",
              "    </tr>\n",
              "  </thead>\n",
              "  <tbody>\n",
              "    <tr>\n",
              "      <th>3</th>\n",
              "      <td>005fd78b-bd9b-4075-bda3-1ea0f855c55c</td>\n",
              "    </tr>\n",
              "    <tr>\n",
              "      <th>5</th>\n",
              "      <td>00723aee-174a-4b00-83f8-78bd3918eb2c</td>\n",
              "    </tr>\n",
              "    <tr>\n",
              "      <th>6</th>\n",
              "      <td>0074a929-abce-4f2e-9da8-c02a1b0d137f</td>\n",
              "    </tr>\n",
              "    <tr>\n",
              "      <th>8</th>\n",
              "      <td>00796d71-0256-4241-810e-27f946f402ac</td>\n",
              "    </tr>\n",
              "    <tr>\n",
              "      <th>11</th>\n",
              "      <td>00b3bd08-7d2c-4f1f-ba7b-f9e44012660f</td>\n",
              "    </tr>\n",
              "    <tr>\n",
              "      <th>...</th>\n",
              "      <td>...</td>\n",
              "    </tr>\n",
              "    <tr>\n",
              "      <th>5805</th>\n",
              "      <td>ff85293f-215c-40bc-bcd5-4f6b4c08c796</td>\n",
              "    </tr>\n",
              "    <tr>\n",
              "      <th>5806</th>\n",
              "      <td>ffa7494d-38a3-47e1-a673-cfbfcc7bbfe1</td>\n",
              "    </tr>\n",
              "    <tr>\n",
              "      <th>5807</th>\n",
              "      <td>ffb96e50-89ea-4a19-b804-b18b08ce1864</td>\n",
              "    </tr>\n",
              "    <tr>\n",
              "      <th>5811</th>\n",
              "      <td>ffda8068-9c22-46f0-971e-6b2b19c764ea</td>\n",
              "    </tr>\n",
              "    <tr>\n",
              "      <th>5812</th>\n",
              "      <td>ffec4e11-c0a1-4fa4-8613-0979d6f46918</td>\n",
              "    </tr>\n",
              "  </tbody>\n",
              "</table>\n",
              "<p>3133 rows × 1 columns</p>\n",
              "</div>"
            ],
            "text/plain": [
              "                           source_event_id\n",
              "3     005fd78b-bd9b-4075-bda3-1ea0f855c55c\n",
              "5     00723aee-174a-4b00-83f8-78bd3918eb2c\n",
              "6     0074a929-abce-4f2e-9da8-c02a1b0d137f\n",
              "8     00796d71-0256-4241-810e-27f946f402ac\n",
              "11    00b3bd08-7d2c-4f1f-ba7b-f9e44012660f\n",
              "...                                    ...\n",
              "5805  ff85293f-215c-40bc-bcd5-4f6b4c08c796\n",
              "5806  ffa7494d-38a3-47e1-a673-cfbfcc7bbfe1\n",
              "5807  ffb96e50-89ea-4a19-b804-b18b08ce1864\n",
              "5811  ffda8068-9c22-46f0-971e-6b2b19c764ea\n",
              "5812  ffec4e11-c0a1-4fa4-8613-0979d6f46918\n",
              "\n",
              "[3133 rows x 1 columns]"
            ]
          },
          "metadata": {
            "tags": []
          },
          "execution_count": 35
        }
      ]
    },
    {
      "cell_type": "markdown",
      "metadata": {
        "id": "jEoRYvcGTP7n"
      },
      "source": [
        "# **Question 1**"
      ]
    },
    {
      "cell_type": "markdown",
      "metadata": {
        "id": "dAcUpl_jURmw"
      },
      "source": [
        "### NaN values in device_id"
      ]
    },
    {
      "cell_type": "code",
      "metadata": {
        "colab": {
          "base_uri": "https://localhost:8080/"
        },
        "id": "OPOtww3bUUsK",
        "outputId": "f2d04dd8-9f87-4c3a-c591-bb9d2cc70d3f"
      },
      "source": [
        "load_df.isna().mean() * 100"
      ],
      "execution_count": 15,
      "outputs": [
        {
          "output_type": "execute_result",
          "data": {
            "text/plain": [
              "created_at          0.000000\n",
              "source_event_id     0.000000\n",
              "device_id           1.443521\n",
              "post_page_offset    0.000000\n",
              "tokens              0.000000\n",
              "tokens_len          0.000000\n",
              "dtype: float64"
            ]
          },
          "metadata": {
            "tags": []
          },
          "execution_count": 15
        }
      ]
    },
    {
      "cell_type": "code",
      "metadata": {
        "colab": {
          "base_uri": "https://localhost:8080/"
        },
        "id": "KRRUNxHGUs5F",
        "outputId": "9b339a18-a18c-4277-eed3-7d7c918639da"
      },
      "source": [
        "click_df.isna().mean() * 100"
      ],
      "execution_count": 16,
      "outputs": [
        {
          "output_type": "execute_result",
          "data": {
            "text/plain": [
              "created_at                 0.000000\n",
              "source_event_id            0.000000\n",
              "device_id                  1.291106\n",
              "post_index_in_post_list    0.000000\n",
              "post_token                 0.001320\n",
              "dtype: float64"
            ]
          },
          "metadata": {
            "tags": []
          },
          "execution_count": 16
        }
      ]
    },
    {
      "cell_type": "code",
      "metadata": {
        "id": "ti5sgMwMWqe5"
      },
      "source": [
        "load_df.dropna(inplace=True)\n",
        "click_df.dropna(inplace=True)"
      ],
      "execution_count": 17,
      "outputs": []
    },
    {
      "cell_type": "markdown",
      "metadata": {
        "id": "TS7u25hLWH5A"
      },
      "source": [
        "### post_page_offset column in load_df shouldn't have any gaps for a given query"
      ]
    },
    {
      "cell_type": "code",
      "metadata": {
        "id": "ocjOEVKJafsZ"
      },
      "source": [
        "no_token_list = load_df.drop([\"tokens\", \"tokens_len\"], axis=1).sort_values([\"created_at\", \"post_page_offset\"])\n",
        "has_gap = lambda ser: np.any(np.diff(ser) > 1) or ser.iloc[0] != 0\n",
        "apply = no_token_list.groupby([\"source_event_id\", \"device_id\"], as_index=False).agg(has_gap)\n",
        "res = apply[apply.post_page_offset == True]"
      ],
      "execution_count": 18,
      "outputs": []
    },
    {
      "cell_type": "code",
      "metadata": {
        "id": "cfd5xsrovohM"
      },
      "source": [
        "gapped_queries = res.source_event_id.unique()\n",
        "all_queries = load_df.source_event_id.unique()\n",
        "gapped_rows = load_df[load_df.source_event_id.isin(gapped_queries)]"
      ],
      "execution_count": 19,
      "outputs": []
    },
    {
      "cell_type": "code",
      "metadata": {
        "colab": {
          "base_uri": "https://localhost:8080/",
          "height": 0
        },
        "id": "tJegyCBFGkgP",
        "outputId": "74d4d0c2-8dde-453a-83d0-762bd1e96c37"
      },
      "source": [
        "load_df[load_df.source_event_id == gapped_queries[0]].sort_values(\"post_page_offset\")"
      ],
      "execution_count": 20,
      "outputs": [
        {
          "output_type": "execute_result",
          "data": {
            "text/html": [
              "<div>\n",
              "<style scoped>\n",
              "    .dataframe tbody tr th:only-of-type {\n",
              "        vertical-align: middle;\n",
              "    }\n",
              "\n",
              "    .dataframe tbody tr th {\n",
              "        vertical-align: top;\n",
              "    }\n",
              "\n",
              "    .dataframe thead th {\n",
              "        text-align: right;\n",
              "    }\n",
              "</style>\n",
              "<table border=\"1\" class=\"dataframe\">\n",
              "  <thead>\n",
              "    <tr style=\"text-align: right;\">\n",
              "      <th></th>\n",
              "      <th>created_at</th>\n",
              "      <th>source_event_id</th>\n",
              "      <th>device_id</th>\n",
              "      <th>post_page_offset</th>\n",
              "      <th>tokens</th>\n",
              "      <th>tokens_len</th>\n",
              "    </tr>\n",
              "  </thead>\n",
              "  <tbody>\n",
              "    <tr>\n",
              "      <th>4129</th>\n",
              "      <td>2021-01-01 23:30:07</td>\n",
              "      <td>013a873e-0039-45fe-93e8-d6880077b6ce</td>\n",
              "      <td>39OT25_ZRzS9olIvPAVOsg</td>\n",
              "      <td>23</td>\n",
              "      <td>[wXvr2A8C, wXvvGZdT, wXvvG0M0, wXvvWhO-, wXvr2...</td>\n",
              "      <td>24</td>\n",
              "    </tr>\n",
              "    <tr>\n",
              "      <th>69059</th>\n",
              "      <td>2021-01-01 23:31:51</td>\n",
              "      <td>013a873e-0039-45fe-93e8-d6880077b6ce</td>\n",
              "      <td>39OT25_ZRzS9olIvPAVOsg</td>\n",
              "      <td>24</td>\n",
              "      <td>[wXv_T-3o, wXvXG0zy, wXvD0JbH, wXvDEPIa, wXvjm...</td>\n",
              "      <td>24</td>\n",
              "    </tr>\n",
              "    <tr>\n",
              "      <th>69966</th>\n",
              "      <td>2021-01-01 23:33:00</td>\n",
              "      <td>013a873e-0039-45fe-93e8-d6880077b6ce</td>\n",
              "      <td>39OT25_ZRzS9olIvPAVOsg</td>\n",
              "      <td>25</td>\n",
              "      <td>[wXvTmLKA, wXvX2x9N, wXvXGhTf, wXvTmDCP, wXvPm...</td>\n",
              "      <td>24</td>\n",
              "    </tr>\n",
              "    <tr>\n",
              "      <th>2722</th>\n",
              "      <td>2021-01-01 23:33:38</td>\n",
              "      <td>013a873e-0039-45fe-93e8-d6880077b6ce</td>\n",
              "      <td>39OT25_ZRzS9olIvPAVOsg</td>\n",
              "      <td>26</td>\n",
              "      <td>[wXvDW5Oi, wXvL2e-U, wXvTksZM, wXvL2Scr, wXvP2...</td>\n",
              "      <td>24</td>\n",
              "    </tr>\n",
              "    <tr>\n",
              "      <th>62536</th>\n",
              "      <td>2021-01-01 23:34:31</td>\n",
              "      <td>013a873e-0039-45fe-93e8-d6880077b6ce</td>\n",
              "      <td>39OT25_ZRzS9olIvPAVOsg</td>\n",
              "      <td>27</td>\n",
              "      <td>[wXvHmvll, wXv7V6te, wXvT08vC, wXvXEV20, wXvXU...</td>\n",
              "      <td>24</td>\n",
              "    </tr>\n",
              "    <tr>\n",
              "      <th>54121</th>\n",
              "      <td>2021-01-01 23:35:48</td>\n",
              "      <td>013a873e-0039-45fe-93e8-d6880077b6ce</td>\n",
              "      <td>39OT25_ZRzS9olIvPAVOsg</td>\n",
              "      <td>28</td>\n",
              "      <td>[wXvrUNj9, wXvzl2FO, wXv7lpq0, wXv7llb0, wXv7F...</td>\n",
              "      <td>24</td>\n",
              "    </tr>\n",
              "    <tr>\n",
              "      <th>109018</th>\n",
              "      <td>2021-01-01 23:37:47</td>\n",
              "      <td>013a873e-0039-45fe-93e8-d6880077b6ce</td>\n",
              "      <td>39OT25_ZRzS9olIvPAVOsg</td>\n",
              "      <td>29</td>\n",
              "      <td>[wXv3VHVf, wXvr1-L6, wXvr0YL4, wXvrlqu-, wXv3F...</td>\n",
              "      <td>24</td>\n",
              "    </tr>\n",
              "    <tr>\n",
              "      <th>66083</th>\n",
              "      <td>2021-01-01 23:38:20</td>\n",
              "      <td>013a873e-0039-45fe-93e8-d6880077b6ce</td>\n",
              "      <td>39OT25_ZRzS9olIvPAVOsg</td>\n",
              "      <td>30</td>\n",
              "      <td>[wXmXjoGo, wXvnF7IF, wXvnVMVO, wXvf1Vt2, wXvf1...</td>\n",
              "      <td>24</td>\n",
              "    </tr>\n",
              "    <tr>\n",
              "      <th>91600</th>\n",
              "      <td>2021-01-01 23:39:04</td>\n",
              "      <td>013a873e-0039-45fe-93e8-d6880077b6ce</td>\n",
              "      <td>39OT25_ZRzS9olIvPAVOsg</td>\n",
              "      <td>31</td>\n",
              "      <td>[wXvHFPMJ, wXvn1zCP, wXvn1QkX, wXvflH6m, wXvPF...</td>\n",
              "      <td>24</td>\n",
              "    </tr>\n",
              "  </tbody>\n",
              "</table>\n",
              "</div>"
            ],
            "text/plain": [
              "                created_at  ... tokens_len\n",
              "4129   2021-01-01 23:30:07  ...         24\n",
              "69059  2021-01-01 23:31:51  ...         24\n",
              "69966  2021-01-01 23:33:00  ...         24\n",
              "2722   2021-01-01 23:33:38  ...         24\n",
              "62536  2021-01-01 23:34:31  ...         24\n",
              "54121  2021-01-01 23:35:48  ...         24\n",
              "109018 2021-01-01 23:37:47  ...         24\n",
              "66083  2021-01-01 23:38:20  ...         24\n",
              "91600  2021-01-01 23:39:04  ...         24\n",
              "\n",
              "[9 rows x 6 columns]"
            ]
          },
          "metadata": {
            "tags": []
          },
          "execution_count": 20
        }
      ]
    },
    {
      "cell_type": "code",
      "metadata": {
        "colab": {
          "base_uri": "https://localhost:8080/"
        },
        "id": "k1sNQrz_IQem",
        "outputId": "21438bfa-6091-4fab-9925-493056543fa1"
      },
      "source": [
        "print(f\"Total number of gapped queries is {gapped_queries.shape[0]} which is %{100 * round(gapped_queries.shape[0] / all_queries.shape[0], 5)} of total queries.\")\n",
        "print(f\"Total number of gapped rows is {gapped_rows.shape[0]} which is %{100 * round(gapped_rows.shape[0] / load_df.shape[0], 3)} of the load_df length.\")"
      ],
      "execution_count": 21,
      "outputs": [
        {
          "output_type": "stream",
          "text": [
            "Total number of gapped queries is 628 which is %6.802 of total queries.\n",
            "Total number of gapped rows is 5087 which is %14.6 of the load_df length.\n"
          ],
          "name": "stdout"
        }
      ]
    },
    {
      "cell_type": "markdown",
      "metadata": {
        "id": "9KwcDc495VYS"
      },
      "source": [
        "### Some queries in click_df are not in load_df"
      ]
    },
    {
      "cell_type": "code",
      "metadata": {
        "id": "2ty5AxfWHBP7",
        "colab": {
          "base_uri": "https://localhost:8080/"
        },
        "outputId": "c15c5a5e-7cbf-4d7c-eb7c-85db0e330257"
      },
      "source": [
        "clicked_unique_ids = click_df.source_event_id.unique()\n",
        "loaded_unique_ids = load_df.source_event_id.unique()\n",
        "result = np.setdiff1d(clicked_unique_ids, loaded_unique_ids)\n",
        "print(f\"There are in total {clicked_unique_ids.shape[0]} unique queries in click_df and %{100 * round(result.shape[0] / clicked_unique_ids.shape[0], 5)} of them are not in the load_df.\")"
      ],
      "execution_count": 22,
      "outputs": [
        {
          "output_type": "stream",
          "text": [
            "There are in total 10649 unique queries in click_df and %45.413 of them are not in the load_df.\n"
          ],
          "name": "stdout"
        }
      ]
    },
    {
      "cell_type": "code",
      "metadata": {
        "colab": {
          "base_uri": "https://localhost:8080/"
        },
        "id": "Th6r4UECKj0H",
        "outputId": "c85913e1-3449-4cb1-ba45-4538988a1589"
      },
      "source": [
        "click_df = click_df[~click_df.source_event_id.isin(result)]\n",
        "print(f\"click_df now has {click_df.shape[0]} rows.\")"
      ],
      "execution_count": 23,
      "outputs": [
        {
          "output_type": "stream",
          "text": [
            "click_df now has 41652 rows.\n"
          ],
          "name": "stdout"
        }
      ]
    },
    {
      "cell_type": "markdown",
      "metadata": {
        "id": "iUXhvP_v4rsq"
      },
      "source": [
        "### Timestamp outlier"
      ]
    },
    {
      "cell_type": "code",
      "metadata": {
        "colab": {
          "base_uri": "https://localhost:8080/",
          "height": 442
        },
        "id": "zUDPj0ba4vM7",
        "outputId": "25b63a4f-1f64-47f5-8def-7aaf2f7ddf45"
      },
      "source": [
        "import time\n",
        "from matplotlib.cbook import boxplot_stats\n",
        "\n",
        "\n",
        "@plt.FuncFormatter\n",
        "def convert_to_date_string(x,pos):\n",
        "    return time.strftime(\"%Y-%m-%d %H:%M\", time.localtime(x))\n",
        "\n",
        "\n",
        "plt.figure(figsize=(12, 6))\n",
        "temp = query_count.created_at.astype(np.int64)/1E9\n",
        "ax = sns.boxplot(x=temp, color=\"pink\", linewidth=1)\n",
        "ax = sns.swarmplot(x=temp, color=\"blue\", linewidth=1)\n",
        "ax.xaxis.set_major_formatter(convert_to_date_string)\n",
        "ax.set(xlabel='Timestamp')\n",
        "plt.xticks(rotation=30);"
      ],
      "execution_count": 94,
      "outputs": [
        {
          "output_type": "display_data",
          "data": {
            "image/png": "[encoded data removed]",
            "text/plain": [
              "<Figure size 864x432 with 1 Axes>"
            ]
          },
          "metadata": {
            "tags": []
          }
        }
      ]
    },
    {
      "cell_type": "code",
      "metadata": {
        "colab": {
          "base_uri": "https://localhost:8080/"
        },
        "id": "dyjLnPFg6hd4",
        "outputId": "3c6ce78d-c179-4cf6-8618-e18acc9754b2"
      },
      "source": [
        "stats = boxplot_stats(query_count.created_at.astype(np.int64))\n",
        "outliers = [y / 1E9 for stat in stats for y in stat['fliers']]\n",
        "outliers = [convert_to_date_string(o) for o in outliers]\n",
        "outliers[:5]"
      ],
      "execution_count": 99,
      "outputs": [
        {
          "output_type": "execute_result",
          "data": {
            "text/plain": [
              "['2021-01-01 00:36',\n",
              " '2021-01-01 00:37',\n",
              " '2021-01-01 00:39',\n",
              " '2021-01-01 00:40',\n",
              " '2021-01-01 00:41']"
            ]
          },
          "metadata": {
            "tags": []
          },
          "execution_count": 99
        }
      ]
    },
    {
      "cell_type": "markdown",
      "metadata": {
        "id": "j8Ocus1_V2eB"
      },
      "source": [
        "# **Question 2**"
      ]
    },
    {
      "cell_type": "markdown",
      "metadata": {
        "id": "6-I68ef2TSpi"
      },
      "source": [
        "### Part 1 (Dark Query Percentage)"
      ]
    },
    {
      "cell_type": "code",
      "metadata": {
        "id": "BKvpydZaVSBN",
        "colab": {
          "base_uri": "https://localhost:8080/"
        },
        "outputId": "e28a18dd-c7e5-4a1f-b6b6-a47d304e5ec2"
      },
      "source": [
        "f = load_df[(load_df.tokens_len < 10) & (load_df.post_page_offset == 0)].source_event_id.nunique()\n",
        "b = load_df.source_event_id.nunique()\n",
        "print(f\"Dark Query Percentage is {100 * round(f / b, 3)}\")"
      ],
      "execution_count": 36,
      "outputs": [
        {
          "output_type": "stream",
          "text": [
            "Dark Query Percentage is 12.4\n"
          ],
          "name": "stdout"
        }
      ]
    },
    {
      "cell_type": "markdown",
      "metadata": {
        "id": "AEROirTiV9wy"
      },
      "source": [
        "### Part 2 (Query Bounce Rate)"
      ]
    },
    {
      "cell_type": "code",
      "metadata": {
        "colab": {
          "base_uri": "https://localhost:8080/"
        },
        "id": "ZewyMAIJMB2M",
        "outputId": "e6992f67-ecc2-4ee0-a40a-b0adb7378b0d"
      },
      "source": [
        "clicked_unique_ids = click_df.source_event_id.unique()\n",
        "loaded_unique_ids = load_df.source_event_id.unique()\n",
        "result = np.setdiff1d(loaded_unique_ids, clicked_unique_ids)\n",
        "print(f\"Query Bounce Rate is %{100 * round(result.shape[0] / loaded_unique_ids.shape[0], 3)}.\")"
      ],
      "execution_count": 37,
      "outputs": [
        {
          "output_type": "stream",
          "text": [
            "Query Bounce Rate is %37.0.\n"
          ],
          "name": "stdout"
        }
      ]
    },
    {
      "cell_type": "markdown",
      "metadata": {
        "id": "9GbwNFxuWV_Q"
      },
      "source": [
        "# **Question 3**"
      ]
    },
    {
      "cell_type": "code",
      "metadata": {
        "id": "mjA7C2zyQFj1"
      },
      "source": [
        "max_offset = load_df.drop(\"tokens\", axis=1).groupby(\"source_event_id\", as_index=False).max().drop([\"device_id\", \"created_at\", \"tokens_len\"], axis=1)\n",
        "merged = pd.merge(max_offset, load_df.drop([\"created_at\", \"device_id\", \"tokens\"], axis=1), on=[\"source_event_id\", \"post_page_offset\"], how=\"left\", suffixes=[\"_min\", \"_max\"])\n",
        "merged = merged.groupby(\"source_event_id\", as_index=False).max()\n",
        "merged[\"new\"] = 24 * merged.post_page_offset + merged.tokens_len"
      ],
      "execution_count": 38,
      "outputs": []
    },
    {
      "cell_type": "code",
      "metadata": {
        "id": "9sLzxMpzQr1D"
      },
      "source": [
        "tty = click_df.drop([\"created_at\", \"device_id\", \"post_token\"], axis=1).groupby([\"source_event_id\"], as_index=False).max()\n",
        "merged_with_click = pd.merge(merged, tty, on=\"source_event_id\", how=\"left\", suffixes=[\"_min\", \"_max\"]).fillna(0, axis=1)\n",
        "merged_with_click[\"result\"] = np.maximum(merged_with_click.post_index_in_post_list, merged_with_click.new)\n",
        "merged_with_click = merged_with_click[[\"source_event_id\", \"result\"]]"
      ],
      "execution_count": 39,
      "outputs": []
    },
    {
      "cell_type": "code",
      "metadata": {
        "id": "pwNdbjtkQyop",
        "colab": {
          "base_uri": "https://localhost:8080/",
          "height": 0
        },
        "outputId": "9ab02fc0-2863-4d68-b8bc-fe9c43ed19f5"
      },
      "source": [
        "clicked_count = click_df.drop_duplicates().groupby([\"source_event_id\"], as_index=False).count()\n",
        "clicked_count[\"res\"] = clicked_count.created_at\n",
        "clicked_count.drop([\"device_id\", \"created_at\", \"post_index_in_post_list\", \"post_token\"], axis=1, inplace=True)\n",
        "clicked_count"
      ],
      "execution_count": 40,
      "outputs": [
        {
          "output_type": "execute_result",
          "data": {
            "text/html": [
              "<div>\n",
              "<style scoped>\n",
              "    .dataframe tbody tr th:only-of-type {\n",
              "        vertical-align: middle;\n",
              "    }\n",
              "\n",
              "    .dataframe tbody tr th {\n",
              "        vertical-align: top;\n",
              "    }\n",
              "\n",
              "    .dataframe thead th {\n",
              "        text-align: right;\n",
              "    }\n",
              "</style>\n",
              "<table border=\"1\" class=\"dataframe\">\n",
              "  <thead>\n",
              "    <tr style=\"text-align: right;\">\n",
              "      <th></th>\n",
              "      <th>source_event_id</th>\n",
              "      <th>res</th>\n",
              "    </tr>\n",
              "  </thead>\n",
              "  <tbody>\n",
              "    <tr>\n",
              "      <th>0</th>\n",
              "      <td>0017c208-e016-4231-a022-598ba020f1ff</td>\n",
              "      <td>4</td>\n",
              "    </tr>\n",
              "    <tr>\n",
              "      <th>1</th>\n",
              "      <td>004dc60d-2288-453f-bcda-1ad5e8d8211f</td>\n",
              "      <td>3</td>\n",
              "    </tr>\n",
              "    <tr>\n",
              "      <th>2</th>\n",
              "      <td>0057b345-8ad7-4c41-9e74-415e39a3140c</td>\n",
              "      <td>1</td>\n",
              "    </tr>\n",
              "    <tr>\n",
              "      <th>3</th>\n",
              "      <td>005fd78b-bd9b-4075-bda3-1ea0f855c55c</td>\n",
              "      <td>11</td>\n",
              "    </tr>\n",
              "    <tr>\n",
              "      <th>4</th>\n",
              "      <td>006bea27-8a2f-4453-a5f3-55d80a2b88c0</td>\n",
              "      <td>2</td>\n",
              "    </tr>\n",
              "    <tr>\n",
              "      <th>...</th>\n",
              "      <td>...</td>\n",
              "      <td>...</td>\n",
              "    </tr>\n",
              "    <tr>\n",
              "      <th>5808</th>\n",
              "      <td>ffb9b334-581a-4abd-9136-f78756e161f0</td>\n",
              "      <td>4</td>\n",
              "    </tr>\n",
              "    <tr>\n",
              "      <th>5809</th>\n",
              "      <td>ffbc107f-45f5-4dcf-b496-ce421de644a4</td>\n",
              "      <td>1</td>\n",
              "    </tr>\n",
              "    <tr>\n",
              "      <th>5810</th>\n",
              "      <td>ffd325c8-31c7-4e35-a5ed-ee922594e799</td>\n",
              "      <td>3</td>\n",
              "    </tr>\n",
              "    <tr>\n",
              "      <th>5811</th>\n",
              "      <td>ffda8068-9c22-46f0-971e-6b2b19c764ea</td>\n",
              "      <td>2</td>\n",
              "    </tr>\n",
              "    <tr>\n",
              "      <th>5812</th>\n",
              "      <td>ffec4e11-c0a1-4fa4-8613-0979d6f46918</td>\n",
              "      <td>5</td>\n",
              "    </tr>\n",
              "  </tbody>\n",
              "</table>\n",
              "<p>5813 rows × 2 columns</p>\n",
              "</div>"
            ],
            "text/plain": [
              "                           source_event_id  res\n",
              "0     0017c208-e016-4231-a022-598ba020f1ff    4\n",
              "1     004dc60d-2288-453f-bcda-1ad5e8d8211f    3\n",
              "2     0057b345-8ad7-4c41-9e74-415e39a3140c    1\n",
              "3     005fd78b-bd9b-4075-bda3-1ea0f855c55c   11\n",
              "4     006bea27-8a2f-4453-a5f3-55d80a2b88c0    2\n",
              "...                                    ...  ...\n",
              "5808  ffb9b334-581a-4abd-9136-f78756e161f0    4\n",
              "5809  ffbc107f-45f5-4dcf-b496-ce421de644a4    1\n",
              "5810  ffd325c8-31c7-4e35-a5ed-ee922594e799    3\n",
              "5811  ffda8068-9c22-46f0-971e-6b2b19c764ea    2\n",
              "5812  ffec4e11-c0a1-4fa4-8613-0979d6f46918    5\n",
              "\n",
              "[5813 rows x 2 columns]"
            ]
          },
          "metadata": {
            "tags": []
          },
          "execution_count": 40
        }
      ]
    },
    {
      "cell_type": "code",
      "metadata": {
        "id": "b9wJgVhrQ0cP",
        "colab": {
          "base_uri": "https://localhost:8080/",
          "height": 0
        },
        "outputId": "60d11c83-3750-4bce-f77a-cbf9ca4a643e"
      },
      "source": [
        "final = pd.merge(merged_with_click, clicked_count, on=\"source_event_id\", how=\"left\")\n",
        "final.fillna(0, inplace=True)\n",
        "final[\"res\"] = final.res / final.result\n",
        "final"
      ],
      "execution_count": 41,
      "outputs": [
        {
          "output_type": "execute_result",
          "data": {
            "text/html": [
              "<div>\n",
              "<style scoped>\n",
              "    .dataframe tbody tr th:only-of-type {\n",
              "        vertical-align: middle;\n",
              "    }\n",
              "\n",
              "    .dataframe tbody tr th {\n",
              "        vertical-align: top;\n",
              "    }\n",
              "\n",
              "    .dataframe thead th {\n",
              "        text-align: right;\n",
              "    }\n",
              "</style>\n",
              "<table border=\"1\" class=\"dataframe\">\n",
              "  <thead>\n",
              "    <tr style=\"text-align: right;\">\n",
              "      <th></th>\n",
              "      <th>source_event_id</th>\n",
              "      <th>result</th>\n",
              "      <th>res</th>\n",
              "    </tr>\n",
              "  </thead>\n",
              "  <tbody>\n",
              "    <tr>\n",
              "      <th>0</th>\n",
              "      <td>00049ef3-c027-4f55-869c-46711f0ea0ad</td>\n",
              "      <td>24.0</td>\n",
              "      <td>0.000000</td>\n",
              "    </tr>\n",
              "    <tr>\n",
              "      <th>1</th>\n",
              "      <td>00069dda-4175-4bb0-8ef0-c0e1031d4da6</td>\n",
              "      <td>24.0</td>\n",
              "      <td>0.000000</td>\n",
              "    </tr>\n",
              "    <tr>\n",
              "      <th>2</th>\n",
              "      <td>0017c208-e016-4231-a022-598ba020f1ff</td>\n",
              "      <td>96.0</td>\n",
              "      <td>0.041667</td>\n",
              "    </tr>\n",
              "    <tr>\n",
              "      <th>3</th>\n",
              "      <td>002222cf-9e4b-4432-9e36-ad500a753850</td>\n",
              "      <td>24.0</td>\n",
              "      <td>0.000000</td>\n",
              "    </tr>\n",
              "    <tr>\n",
              "      <th>4</th>\n",
              "      <td>004dc60d-2288-453f-bcda-1ad5e8d8211f</td>\n",
              "      <td>25.0</td>\n",
              "      <td>0.120000</td>\n",
              "    </tr>\n",
              "    <tr>\n",
              "      <th>...</th>\n",
              "      <td>...</td>\n",
              "      <td>...</td>\n",
              "      <td>...</td>\n",
              "    </tr>\n",
              "    <tr>\n",
              "      <th>9228</th>\n",
              "      <td>ffd325c8-31c7-4e35-a5ed-ee922594e799</td>\n",
              "      <td>17.0</td>\n",
              "      <td>0.176471</td>\n",
              "    </tr>\n",
              "    <tr>\n",
              "      <th>9229</th>\n",
              "      <td>ffda8068-9c22-46f0-971e-6b2b19c764ea</td>\n",
              "      <td>216.0</td>\n",
              "      <td>0.009259</td>\n",
              "    </tr>\n",
              "    <tr>\n",
              "      <th>9230</th>\n",
              "      <td>ffeaa17f-ee79-4f42-be58-afd60a5aef37</td>\n",
              "      <td>48.0</td>\n",
              "      <td>0.000000</td>\n",
              "    </tr>\n",
              "    <tr>\n",
              "      <th>9231</th>\n",
              "      <td>ffec4e11-c0a1-4fa4-8613-0979d6f46918</td>\n",
              "      <td>528.0</td>\n",
              "      <td>0.009470</td>\n",
              "    </tr>\n",
              "    <tr>\n",
              "      <th>9232</th>\n",
              "      <td>fffc83a5-3f35-4cfe-bb4d-e1b9bf709860</td>\n",
              "      <td>24.0</td>\n",
              "      <td>0.000000</td>\n",
              "    </tr>\n",
              "  </tbody>\n",
              "</table>\n",
              "<p>9233 rows × 3 columns</p>\n",
              "</div>"
            ],
            "text/plain": [
              "                           source_event_id  result       res\n",
              "0     00049ef3-c027-4f55-869c-46711f0ea0ad    24.0  0.000000\n",
              "1     00069dda-4175-4bb0-8ef0-c0e1031d4da6    24.0  0.000000\n",
              "2     0017c208-e016-4231-a022-598ba020f1ff    96.0  0.041667\n",
              "3     002222cf-9e4b-4432-9e36-ad500a753850    24.0  0.000000\n",
              "4     004dc60d-2288-453f-bcda-1ad5e8d8211f    25.0  0.120000\n",
              "...                                    ...     ...       ...\n",
              "9228  ffd325c8-31c7-4e35-a5ed-ee922594e799    17.0  0.176471\n",
              "9229  ffda8068-9c22-46f0-971e-6b2b19c764ea   216.0  0.009259\n",
              "9230  ffeaa17f-ee79-4f42-be58-afd60a5aef37    48.0  0.000000\n",
              "9231  ffec4e11-c0a1-4fa4-8613-0979d6f46918   528.0  0.009470\n",
              "9232  fffc83a5-3f35-4cfe-bb4d-e1b9bf709860    24.0  0.000000\n",
              "\n",
              "[9233 rows x 3 columns]"
            ]
          },
          "metadata": {
            "tags": []
          },
          "execution_count": 41
        }
      ]
    },
    {
      "cell_type": "code",
      "metadata": {
        "colab": {
          "base_uri": "https://localhost:8080/"
        },
        "id": "P-EArqnkQ0y2",
        "outputId": "6bc9f712-6310-4e88-82ab-56a312b9119b"
      },
      "source": [
        "answer = final[final.res < 1].res.mean()\n",
        "print(f\"The average click rate of queries is %{100 * round(answer, 3)}.\")"
      ],
      "execution_count": 42,
      "outputs": [
        {
          "output_type": "stream",
          "text": [
            "The average click rate of queries is %7.1.\n"
          ],
          "name": "stdout"
        }
      ]
    },
    {
      "cell_type": "code",
      "metadata": {
        "id": "Y6Yyu9GIVU9g"
      },
      "source": [
        ""
      ],
      "execution_count": 42,
      "outputs": []
    }
  ]
}